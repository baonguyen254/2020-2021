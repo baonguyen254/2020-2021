{
 "cells": [
  {
   "cell_type": "code",
   "execution_count": 22,
   "metadata": {},
   "outputs": [
    {
     "name": "stdout",
     "output_type": "stream",
     "text": [
      "[6.  7.5 8.  0.  1. ]\n",
      "[[1 2 3 4]\n",
      " [5 6 7 8]]\n",
      "2\n",
      "(2, 4)\n"
     ]
    }
   ],
   "source": [
    "from numpy import *\n",
    "import numpy as np\n",
    "\n",
    "data1 = [6,7.5,8,0,1]\n",
    "arr1 = np.array(data1)\n",
    "print(arr1)\n",
    "\n",
    "data2 = [[1,2,3,4], [5,6,7,8]]\n",
    "arr2 = np.array(data2)\n",
    "print(arr2)\n",
    "\n",
    "print(arr2.ndim)\n",
    "print(arr2.shape)\n",
    "\n",
    "arr3 = np.asarray(['1', '2'])"
   ]
  },
  {
   "cell_type": "code",
   "execution_count": 25,
   "metadata": {},
   "outputs": [
    {
     "data": {
      "text/plain": [
       "array([ 0,  1,  2,  3,  4,  5,  6,  7,  8,  9, 10, 11, 12, 13, 14])"
      ]
     },
     "execution_count": 25,
     "metadata": {},
     "output_type": "execute_result"
    }
   ],
   "source": [
    "arr4 = arange(15)\n",
    "arr4"
   ]
  },
  {
   "cell_type": "code",
   "execution_count": 26,
   "metadata": {},
   "outputs": [
    {
     "data": {
      "text/plain": [
       "array([[1, 1, 1, 1],\n",
       "       [1, 1, 1, 1]])"
      ]
     },
     "execution_count": 26,
     "metadata": {},
     "output_type": "execute_result"
    }
   ],
   "source": [
    "arr6 = np.ones_like(arr2)\n",
    "arr6"
   ]
  },
  {
   "cell_type": "code",
   "execution_count": 27,
   "metadata": {},
   "outputs": [
    {
     "data": {
      "text/plain": [
       "array([[0., 0., 0., 0., 0., 0.],\n",
       "       [0., 0., 0., 0., 0., 0.],\n",
       "       [0., 0., 0., 0., 0., 0.]])"
      ]
     },
     "execution_count": 27,
     "metadata": {},
     "output_type": "execute_result"
    }
   ],
   "source": [
    "arr7 = np.zeros((3,6))\n",
    "arr7"
   ]
  },
  {
   "cell_type": "code",
   "execution_count": 29,
   "metadata": {},
   "outputs": [
    {
     "data": {
      "text/plain": [
       "array([[0, 0, 0, 0],\n",
       "       [0, 0, 0, 0]])"
      ]
     },
     "execution_count": 29,
     "metadata": {},
     "output_type": "execute_result"
    }
   ],
   "source": [
    "arr8 = np.zeros_like(arr2)\n",
    "arr8"
   ]
  },
  {
   "cell_type": "code",
   "execution_count": 30,
   "metadata": {},
   "outputs": [
    {
     "data": {
      "text/plain": [
       "array([[[0., 0.],\n",
       "        [0., 0.],\n",
       "        [0., 0.]],\n",
       "\n",
       "       [[0., 0.],\n",
       "        [0., 0.],\n",
       "        [0., 0.]]])"
      ]
     },
     "execution_count": 30,
     "metadata": {},
     "output_type": "execute_result"
    }
   ],
   "source": [
    "arr9 = np.empty((2,3,2))\n",
    "arr9"
   ]
  },
  {
   "cell_type": "code",
   "execution_count": 31,
   "metadata": {},
   "outputs": [
    {
     "data": {
      "text/plain": [
       "array([[         0, 1075314688,          0, 1075707904],\n",
       "       [         0, 1075838976,          0, 1072693248]])"
      ]
     },
     "execution_count": 31,
     "metadata": {},
     "output_type": "execute_result"
    }
   ],
   "source": [
    "arr10 = np.empty_like(arr2)\n",
    "arr10"
   ]
  },
  {
   "cell_type": "code",
   "execution_count": 32,
   "metadata": {},
   "outputs": [
    {
     "data": {
      "text/plain": [
       "array([[1., 0., 0.],\n",
       "       [0., 1., 0.],\n",
       "       [0., 0., 1.]])"
      ]
     },
     "execution_count": 32,
     "metadata": {},
     "output_type": "execute_result"
    }
   ],
   "source": [
    "arr11 = np.eye(3)\n",
    "arr11"
   ]
  },
  {
   "cell_type": "code",
   "execution_count": 33,
   "metadata": {},
   "outputs": [
    {
     "data": {
      "text/plain": [
       "array([[1., 0., 0., 0.],\n",
       "       [0., 1., 0., 0.],\n",
       "       [0., 0., 1., 0.],\n",
       "       [0., 0., 0., 1.]])"
      ]
     },
     "execution_count": 33,
     "metadata": {},
     "output_type": "execute_result"
    }
   ],
   "source": [
    "arr12 = np.identity(4)\n",
    "arr12"
   ]
  },
  {
   "cell_type": "code",
   "execution_count": 54,
   "metadata": {},
   "outputs": [
    {
     "data": {
      "text/plain": [
       "array([[2.36844027, 2.61639023, 3.13528453],\n",
       "       [2.66116299, 2.16458524, 2.55960045]])"
      ]
     },
     "execution_count": 54,
     "metadata": {},
     "output_type": "execute_result"
    }
   ],
   "source": [
    "arr_1 = np.random.uniform(1,2,(2,3))\n",
    "arr_2 = np.random.uniform(1,2,(2,3))\n",
    "arr_1 + arr_2"
   ]
  },
  {
   "cell_type": "code",
   "execution_count": 55,
   "metadata": {},
   "outputs": [
    {
     "data": {
      "text/plain": [
       "array([[-0.17070304,  0.08641039, -0.68217662],\n",
       "       [ 0.48418629, -0.06553874,  0.40357631]])"
      ]
     },
     "execution_count": 55,
     "metadata": {},
     "output_type": "execute_result"
    }
   ],
   "source": [
    "arr_1 - arr_2"
   ]
  },
  {
   "cell_type": "code",
   "execution_count": 56,
   "metadata": {},
   "outputs": [
    {
     "data": {
      "text/plain": [
       "array([[1.39509244, 1.70950777, 2.34116103],\n",
       "       [1.71183802, 1.17028349, 1.59717016]])"
      ]
     },
     "execution_count": 56,
     "metadata": {},
     "output_type": "execute_result"
    }
   ],
   "source": [
    "arr_1 * arr_2"
   ]
  },
  {
   "cell_type": "code",
   "execution_count": 57,
   "metadata": {},
   "outputs": [
    {
     "data": {
      "text/plain": [
       "array([[0.8655428 , 1.06830915, 0.64260193],\n",
       "       [1.44482451, 0.94122413, 1.37437086]])"
      ]
     },
     "execution_count": 57,
     "metadata": {},
     "output_type": "execute_result"
    }
   ],
   "source": [
    "arr_1 / arr_2"
   ]
  },
  {
   "cell_type": "code",
   "execution_count": 58,
   "metadata": {},
   "outputs": [
    {
     "data": {
      "text/plain": [
       "array([[1.12715486, 1.46366086, 1.47665464],\n",
       "       [1.63696402, 1.05537658, 1.52772918]])"
      ]
     },
     "execution_count": 58,
     "metadata": {},
     "output_type": "execute_result"
    }
   ],
   "source": [
    "arr_3 = np.array(arr_1 ** arr_2, dtype=np.float64)\n",
    "arr_3"
   ]
  },
  {
   "cell_type": "code",
   "execution_count": 61,
   "metadata": {},
   "outputs": [
    {
     "name": "stdout",
     "output_type": "stream",
     "text": [
      "[0 1 2 3 4 5 6 7 8 9]\n",
      "3\n",
      "[2 3 4]\n",
      "[5 6 7]\n",
      "[    5 12345     7]\n"
     ]
    }
   ],
   "source": [
    "arr = np.arange(10)\n",
    "print(arr)\n",
    "print(arr[3])\n",
    "print(arr[2:5])\n",
    "arr_slice = arr[5:8]\n",
    "print(arr_slice)\n",
    "arr_slice[1] = 12345\n",
    "print(arr_slice)"
   ]
  },
  {
   "cell_type": "code",
   "execution_count": 64,
   "metadata": {},
   "outputs": [
    {
     "name": "stdout",
     "output_type": "stream",
     "text": [
      "[[1 2 3]\n",
      " [4 5 6]\n",
      " [7 8 9]]\n",
      "[7 8 9]\n",
      "3\n",
      "3\n"
     ]
    }
   ],
   "source": [
    "arr2d = np.array([[1,2,3], [4,5,6], [7,8,9]])\n",
    "print(arr2d)\n",
    "print(arr2d[2])\n",
    "print(arr2d[0][2])\n",
    "print(arr2d[0,2])"
   ]
  },
  {
   "cell_type": "code",
   "execution_count": 71,
   "metadata": {},
   "outputs": [
    {
     "name": "stdout",
     "output_type": "stream",
     "text": [
      "[[1 2 3]\n",
      " [4 5 6]\n",
      " [7 8 9]]\n",
      "[[0 9 8]\n",
      " [7 6 5]\n",
      " [4 3 2]]\n"
     ]
    }
   ],
   "source": [
    "A = np.array([[1,-2,3], [-4,5,-6], [7,-8,9]])\n",
    "B = np.array([[0,9,-8], [7,-6,5], [-4,3,-2]])\n",
    "print(np.abs(A))\n",
    "print(np.abs(B))"
   ]
  },
  {
   "cell_type": "code",
   "execution_count": 70,
   "metadata": {},
   "outputs": [
    {
     "name": "stdout",
     "output_type": "stream",
     "text": [
      "[[1. 2. 3.]\n",
      " [4. 5. 6.]\n",
      " [7. 8. 9.]]\n",
      "[[0. 9. 8.]\n",
      " [7. 6. 5.]\n",
      " [4. 3. 2.]]\n"
     ]
    }
   ],
   "source": [
    "print(np.fabs(A))\n",
    "print(np.fabs(B))\n"
   ]
  },
  {
   "cell_type": "code",
   "execution_count": 73,
   "metadata": {},
   "outputs": [
    {
     "name": "stdout",
     "output_type": "stream",
     "text": [
      "[[1.         1.41421356 1.73205081]\n",
      " [2.         2.23606798 2.44948974]\n",
      " [2.64575131 2.82842712 3.        ]]\n",
      "[[0.         3.         2.82842712]\n",
      " [2.64575131 2.44948974 2.23606798]\n",
      " [2.         1.73205081 1.41421356]]\n"
     ]
    }
   ],
   "source": [
    "\n",
    "print(np.array(np.sqrt(np.abs(A)),dtype=np.float64))\n",
    "print(np.array(np.sqrt(np.abs(B)),dtype=np.float64))\n"
   ]
  },
  {
   "cell_type": "code",
   "execution_count": 75,
   "metadata": {},
   "outputs": [
    {
     "name": "stdout",
     "output_type": "stream",
     "text": [
      "[[2.71828183e+00 1.35335283e-01 2.00855369e+01]\n",
      " [1.83156389e-02 1.48413159e+02 2.47875218e-03]\n",
      " [1.09663316e+03 3.35462628e-04 8.10308393e+03]]\n",
      "[[1.00000000e+00 8.10308393e+03 3.35462628e-04]\n",
      " [1.09663316e+03 2.47875218e-03 1.48413159e+02]\n",
      " [1.83156389e-02 2.00855369e+01 1.35335283e-01]]\n"
     ]
    }
   ],
   "source": [
    "print(np.exp(A))\n",
    "print(np.exp(B))"
   ]
  },
  {
   "cell_type": "code",
   "execution_count": 76,
   "metadata": {},
   "outputs": [
    {
     "name": "stdout",
     "output_type": "stream",
     "text": [
      "[[0.                nan 1.09861229]\n",
      " [       nan 1.60943791        nan]\n",
      " [1.94591015        nan 2.19722458]]\n",
      "[[      -inf 2.19722458        nan]\n",
      " [1.94591015        nan 1.60943791]\n",
      " [       nan 1.09861229        nan]]\n"
     ]
    },
    {
     "name": "stderr",
     "output_type": "stream",
     "text": [
      "<ipython-input-76-2c15fb3e4dea>:1: RuntimeWarning: invalid value encountered in log\n",
      "  print(np.log(A))\n",
      "<ipython-input-76-2c15fb3e4dea>:2: RuntimeWarning: divide by zero encountered in log\n",
      "  print(np.log(B))\n",
      "<ipython-input-76-2c15fb3e4dea>:2: RuntimeWarning: invalid value encountered in log\n",
      "  print(np.log(B))\n"
     ]
    }
   ],
   "source": [
    "print(np.log(A))\n",
    "print(np.log(B))"
   ]
  },
  {
   "cell_type": "code",
   "execution_count": 77,
   "metadata": {},
   "outputs": [
    {
     "name": "stdout",
     "output_type": "stream",
     "text": [
      "[[0.                nan 0.47712125]\n",
      " [       nan 0.69897           nan]\n",
      " [0.84509804        nan 0.95424251]]\n",
      "[[      -inf 0.95424251        nan]\n",
      " [0.84509804        nan 0.69897   ]\n",
      " [       nan 0.47712125        nan]]\n"
     ]
    },
    {
     "name": "stderr",
     "output_type": "stream",
     "text": [
      "<ipython-input-77-3fbc7dd9d3f4>:1: RuntimeWarning: invalid value encountered in log10\n",
      "  print(np.log10(A))\n",
      "<ipython-input-77-3fbc7dd9d3f4>:2: RuntimeWarning: divide by zero encountered in log10\n",
      "  print(np.log10(B))\n",
      "<ipython-input-77-3fbc7dd9d3f4>:2: RuntimeWarning: invalid value encountered in log10\n",
      "  print(np.log10(B))\n"
     ]
    }
   ],
   "source": [
    "print(np.log10(A))\n",
    "print(np.log10(B))"
   ]
  },
  {
   "cell_type": "code",
   "execution_count": 78,
   "metadata": {},
   "outputs": [
    {
     "name": "stdout",
     "output_type": "stream",
     "text": [
      "[[0.                nan 1.5849625 ]\n",
      " [       nan 2.32192809        nan]\n",
      " [2.80735492        nan 3.169925  ]]\n",
      "[[      -inf 3.169925          nan]\n",
      " [2.80735492        nan 2.32192809]\n",
      " [       nan 1.5849625         nan]]\n"
     ]
    },
    {
     "name": "stderr",
     "output_type": "stream",
     "text": [
      "<ipython-input-78-79077f57e990>:1: RuntimeWarning: invalid value encountered in log2\n",
      "  print(np.log2(A))\n",
      "<ipython-input-78-79077f57e990>:2: RuntimeWarning: divide by zero encountered in log2\n",
      "  print(np.log2(B))\n",
      "<ipython-input-78-79077f57e990>:2: RuntimeWarning: invalid value encountered in log2\n",
      "  print(np.log2(B))\n"
     ]
    }
   ],
   "source": [
    "print(np.log2(A))\n",
    "print(np.log2(B))"
   ]
  },
  {
   "cell_type": "code",
   "execution_count": 79,
   "metadata": {},
   "outputs": [
    {
     "name": "stdout",
     "output_type": "stream",
     "text": [
      "[[0.69314718        nan 1.38629436]\n",
      " [       nan 1.79175947        nan]\n",
      " [2.07944154        nan 2.30258509]]\n",
      "[[0.         2.30258509        nan]\n",
      " [2.07944154        nan 1.79175947]\n",
      " [       nan 1.38629436        nan]]\n"
     ]
    },
    {
     "name": "stderr",
     "output_type": "stream",
     "text": [
      "<ipython-input-79-2dc3a47101e5>:1: RuntimeWarning: invalid value encountered in log1p\n",
      "  print(np.log1p(A))\n",
      "<ipython-input-79-2dc3a47101e5>:2: RuntimeWarning: invalid value encountered in log1p\n",
      "  print(np.log1p(B))\n"
     ]
    }
   ],
   "source": [
    "print(np.log1p(A))\n",
    "print(np.log1p(B))"
   ]
  },
  {
   "cell_type": "code",
   "execution_count": 81,
   "metadata": {},
   "outputs": [
    {
     "name": "stdout",
     "output_type": "stream",
     "text": [
      "[[ 1 -1  1]\n",
      " [-1  1 -1]\n",
      " [ 1 -1  1]]\n",
      "[[ 0  1 -1]\n",
      " [ 1 -1  1]\n",
      " [-1  1 -1]]\n"
     ]
    }
   ],
   "source": [
    "print(np.sign(A))\n",
    "print(np.sign(B))"
   ]
  },
  {
   "cell_type": "code",
   "execution_count": 82,
   "metadata": {},
   "outputs": [
    {
     "name": "stdout",
     "output_type": "stream",
     "text": [
      "[[ 1. -2.  3.]\n",
      " [-4.  5. -6.]\n",
      " [ 7. -8.  9.]]\n",
      "[[ 0.  9. -8.]\n",
      " [ 7. -6.  5.]\n",
      " [-4.  3. -2.]]\n"
     ]
    }
   ],
   "source": [
    "print(np.ceil(A))\n",
    "print(np.ceil(B))"
   ]
  },
  {
   "cell_type": "code",
   "execution_count": 83,
   "metadata": {},
   "outputs": [
    {
     "name": "stdout",
     "output_type": "stream",
     "text": [
      "[[ 1. -2.  3.]\n",
      " [-4.  5. -6.]\n",
      " [ 7. -8.  9.]]\n",
      "[[ 0.  9. -8.]\n",
      " [ 7. -6.  5.]\n",
      " [-4.  3. -2.]]\n"
     ]
    }
   ],
   "source": [
    "print(np.floor(A))\n",
    "print(np.floor(B))"
   ]
  },
  {
   "cell_type": "code",
   "execution_count": 84,
   "metadata": {},
   "outputs": [
    {
     "name": "stdout",
     "output_type": "stream",
     "text": [
      "[[ 1. -2.  3.]\n",
      " [-4.  5. -6.]\n",
      " [ 7. -8.  9.]]\n",
      "[[ 0.  9. -8.]\n",
      " [ 7. -6.  5.]\n",
      " [-4.  3. -2.]]\n"
     ]
    }
   ],
   "source": [
    "print(np.rint(A))\n",
    "print(np.rint(B))"
   ]
  },
  {
   "cell_type": "code",
   "execution_count": 85,
   "metadata": {},
   "outputs": [
    {
     "name": "stdout",
     "output_type": "stream",
     "text": [
      "(array([[ 0., -0.,  0.],\n",
      "       [-0.,  0., -0.],\n",
      "       [ 0., -0.,  0.]]), array([[ 1., -2.,  3.],\n",
      "       [-4.,  5., -6.],\n",
      "       [ 7., -8.,  9.]]))\n",
      "(array([[ 0.,  0., -0.],\n",
      "       [ 0., -0.,  0.],\n",
      "       [-0.,  0., -0.]]), array([[ 0.,  9., -8.],\n",
      "       [ 7., -6.,  5.],\n",
      "       [-4.,  3., -2.]]))\n"
     ]
    }
   ],
   "source": [
    "print(np.modf(A))\n",
    "print(np.modf(B))"
   ]
  },
  {
   "cell_type": "code",
   "execution_count": 87,
   "metadata": {},
   "outputs": [
    {
     "name": "stdout",
     "output_type": "stream",
     "text": [
      "[[False False False]\n",
      " [False False False]\n",
      " [False False False]]\n",
      "[[False False False]\n",
      " [False False False]\n",
      " [False False False]]\n"
     ]
    }
   ],
   "source": [
    "print(np.isnan(A))\n",
    "print(np.isnan(B))"
   ]
  },
  {
   "cell_type": "code",
   "execution_count": 88,
   "metadata": {},
   "outputs": [
    {
     "name": "stdout",
     "output_type": "stream",
     "text": [
      "[[ True  True  True]\n",
      " [ True  True  True]\n",
      " [ True  True  True]]\n",
      "[[ True  True  True]\n",
      " [ True  True  True]\n",
      " [ True  True  True]]\n"
     ]
    }
   ],
   "source": [
    "print(np.isfinite(A))\n",
    "print(np.isfinite(B))"
   ]
  },
  {
   "cell_type": "code",
   "execution_count": 89,
   "metadata": {},
   "outputs": [
    {
     "name": "stdout",
     "output_type": "stream",
     "text": [
      "[[False False False]\n",
      " [False False False]\n",
      " [False False False]]\n",
      "[[False False False]\n",
      " [False False False]\n",
      " [False False False]]\n"
     ]
    }
   ],
   "source": [
    "print(np.isinf(A))\n",
    "print(np.isinf(B))"
   ]
  },
  {
   "cell_type": "code",
   "execution_count": 90,
   "metadata": {},
   "outputs": [
    {
     "name": "stdout",
     "output_type": "stream",
     "text": [
      "[[ 0.54030231 -0.41614684 -0.9899925 ]\n",
      " [-0.65364362  0.28366219  0.96017029]\n",
      " [ 0.75390225 -0.14550003 -0.91113026]]\n",
      "[[ 1.         -0.91113026 -0.14550003]\n",
      " [ 0.75390225  0.96017029  0.28366219]\n",
      " [-0.65364362 -0.9899925  -0.41614684]]\n"
     ]
    }
   ],
   "source": [
    "print(np.cos(A))\n",
    "print(np.cos(B))"
   ]
  },
  {
   "cell_type": "code",
   "execution_count": 92,
   "metadata": {},
   "outputs": [
    {
     "name": "stdout",
     "output_type": "stream",
     "text": [
      "[[1.54308063e+00 3.76219569e+00 1.00676620e+01]\n",
      " [2.73082328e+01 7.42099485e+01 2.01715636e+02]\n",
      " [5.48317035e+02 1.49047916e+03 4.05154203e+03]]\n",
      "[[1.00000000e+00 4.05154203e+03 1.49047916e+03]\n",
      " [5.48317035e+02 2.01715636e+02 7.42099485e+01]\n",
      " [2.73082328e+01 1.00676620e+01 3.76219569e+00]]\n"
     ]
    }
   ],
   "source": [
    "print(np.cosh(A))\n",
    "print(np.cosh(B))"
   ]
  },
  {
   "cell_type": "code",
   "execution_count": 94,
   "metadata": {},
   "outputs": [
    {
     "name": "stdout",
     "output_type": "stream",
     "text": [
      "[[ 0.84147098 -0.90929743  0.14112001]\n",
      " [ 0.7568025  -0.95892427  0.2794155 ]\n",
      " [ 0.6569866  -0.98935825  0.41211849]]\n",
      "[[ 0.          0.41211849 -0.98935825]\n",
      " [ 0.6569866   0.2794155  -0.95892427]\n",
      " [ 0.7568025   0.14112001 -0.90929743]]\n"
     ]
    }
   ],
   "source": [
    "print(np.sin(A))\n",
    "print(np.sin(B))"
   ]
  },
  {
   "cell_type": "code",
   "execution_count": 95,
   "metadata": {},
   "outputs": [
    {
     "name": "stdout",
     "output_type": "stream",
     "text": [
      "[[ 0.84147098 -0.90929743  0.14112001]\n",
      " [ 0.7568025  -0.95892427  0.2794155 ]\n",
      " [ 0.6569866  -0.98935825  0.41211849]]\n",
      "[[ 0.00000000e+00  4.05154190e+03 -1.49047883e+03]\n",
      " [ 5.48316123e+02 -2.01713157e+02  7.42032106e+01]\n",
      " [-2.72899172e+01  1.00178749e+01 -3.62686041e+00]]\n"
     ]
    }
   ],
   "source": [
    "print(np.sin(A))\n",
    "print(np.sinh(B))"
   ]
  },
  {
   "cell_type": "code",
   "execution_count": 97,
   "metadata": {},
   "outputs": [
    {
     "name": "stdout",
     "output_type": "stream",
     "text": [
      "[[False False False]\n",
      " [False False False]\n",
      " [False False False]]\n",
      "[[ True False False]\n",
      " [False False False]\n",
      " [False False False]]\n"
     ]
    }
   ],
   "source": [
    "print(np.logical_not(A))\n",
    "print(np.logical_not(B))"
   ]
  },
  {
   "cell_type": "code",
   "execution_count": 100,
   "metadata": {},
   "outputs": [
    {
     "name": "stdout",
     "output_type": "stream",
     "text": [
      "[[ 1  7 -5]\n",
      " [ 3 -1 -1]\n",
      " [ 3 -5  7]]\n"
     ]
    }
   ],
   "source": [
    "print(np.add(A,B))"
   ]
  },
  {
   "cell_type": "code",
   "execution_count": 103,
   "metadata": {},
   "outputs": [
    {
     "name": "stdout",
     "output_type": "stream",
     "text": [
      "[[  1 -11  11]\n",
      " [-11  11 -11]\n",
      " [ 11 -11  11]]\n"
     ]
    }
   ],
   "source": [
    "print(np.subtract(A,B))"
   ]
  },
  {
   "cell_type": "code",
   "execution_count": 106,
   "metadata": {},
   "outputs": [
    {
     "name": "stdout",
     "output_type": "stream",
     "text": [
      "[[  0 -18 -24]\n",
      " [-28 -30 -30]\n",
      " [-28 -24 -18]]\n"
     ]
    }
   ],
   "source": [
    "print(np.multiply(A,B))"
   ]
  },
  {
   "cell_type": "code",
   "execution_count": 108,
   "metadata": {},
   "outputs": [
    {
     "name": "stdout",
     "output_type": "stream",
     "text": [
      "[[ 0 -1 -1]\n",
      " [-1 -1 -2]\n",
      " [-2 -3 -5]]\n"
     ]
    },
    {
     "name": "stderr",
     "output_type": "stream",
     "text": [
      "<ipython-input-108-dba531474441>:1: RuntimeWarning: divide by zero encountered in floor_divide\n",
      "  print(np.floor_divide(A,B))\n"
     ]
    }
   ],
   "source": [
    "print(np.floor_divide(A,B))"
   ]
  },
  {
   "cell_type": "code",
   "execution_count": 109,
   "metadata": {},
   "outputs": [
    {
     "name": "stdout",
     "output_type": "stream",
     "text": [
      "[[ 1  4  9]\n",
      " [16 25 36]\n",
      " [49 64 81]]\n"
     ]
    }
   ],
   "source": [
    "print(np.power(A,2))"
   ]
  },
  {
   "cell_type": "code",
   "execution_count": 111,
   "metadata": {},
   "outputs": [
    {
     "name": "stdout",
     "output_type": "stream",
     "text": [
      "7\n"
     ]
    }
   ],
   "source": [
    "print(np.fmax(2,7))"
   ]
  },
  {
   "cell_type": "code",
   "execution_count": 113,
   "metadata": {},
   "outputs": [
    {
     "name": "stdout",
     "output_type": "stream",
     "text": [
      "-100\n"
     ]
    }
   ],
   "source": [
    "print(np.fmin(-9,-100))"
   ]
  },
  {
   "cell_type": "code",
   "execution_count": 117,
   "metadata": {},
   "outputs": [
    {
     "name": "stdout",
     "output_type": "stream",
     "text": [
      "[[ 0 -1  1]\n",
      " [-1  4 -1]\n",
      " [ 3 -5  7]]\n"
     ]
    }
   ],
   "source": [
    "print(np.mod(B,A))"
   ]
  },
  {
   "cell_type": "code",
   "execution_count": 119,
   "metadata": {},
   "outputs": [
    {
     "name": "stdout",
     "output_type": "stream",
     "text": [
      "[[ 1.  2. -3.]\n",
      " [ 4. -5.  6.]\n",
      " [-7.  8. -9.]]\n"
     ]
    }
   ],
   "source": [
    "print(np.copysign(A,B))"
   ]
  },
  {
   "cell_type": "code",
   "execution_count": 130,
   "metadata": {},
   "outputs": [
    {
     "data": {
      "image/png": "[encoded data removed]",
      "text/plain": [
       "<Figure size 432x288 with 1 Axes>"
      ]
     },
     "metadata": {
      "needs_background": "light"
     },
     "output_type": "display_data"
    }
   ],
   "source": [
    "from matplotlib import pyplot as plt\n",
    "x = np.arange(-10,10,0.01)\n",
    "def f(x):\n",
    "    return 1/(np.sqrt(2*np.pi))*np.exp(-x**2/2)\n",
    "y = f(x)\n",
    "fig, ax = plt.subplots()\n",
    "ax.plot(x,y,color = 'red', label = 'f')\n",
    "ax.set(title = 'Normal Distribution')\n",
    "plt.legend()\n",
    "plt.show()"
   ]
  },
  {
   "cell_type": "code",
   "execution_count": 131,
   "metadata": {},
   "outputs": [
    {
     "name": "stdout",
     "output_type": "stream",
     "text": [
      "[[-5.   -5.   -5.   ... -5.   -5.   -5.  ]\n",
      " [-4.99 -4.99 -4.99 ... -4.99 -4.99 -4.99]\n",
      " [-4.98 -4.98 -4.98 ... -4.98 -4.98 -4.98]\n",
      " ...\n",
      " [ 4.97  4.97  4.97 ...  4.97  4.97  4.97]\n",
      " [ 4.98  4.98  4.98 ...  4.98  4.98  4.98]\n",
      " [ 4.99  4.99  4.99 ...  4.99  4.99  4.99]]\n",
      "[[7.07106781 7.06400028 7.05693985 ... 7.04988652 7.05693985 7.06400028]\n",
      " [7.06400028 7.05692568 7.04985815 ... 7.04279774 7.04985815 7.05692568]\n",
      " [7.05693985 7.04985815 7.04278354 ... 7.03571603 7.04278354 7.04985815]\n",
      " ...\n",
      " [7.04988652 7.04279774 7.03571603 ... 7.0286414  7.03571603 7.04279774]\n",
      " [7.05693985 7.04985815 7.04278354 ... 7.03571603 7.04278354 7.04985815]\n",
      " [7.06400028 7.05692568 7.04985815 ... 7.04279774 7.04985815 7.05692568]]\n"
     ]
    },
    {
     "data": {
      "text/plain": [
       "Text(0.5, 1.0, 'Image plot of $\\\\sqrt{x^2 + y^2}$ for a grid of values')"
      ]
     },
     "execution_count": 131,
     "metadata": {},
     "output_type": "execute_result"
    },
    {
     "data": {
      "image/png": "[encoded data removed]",
      "text/plain": [
       "<Figure size 432x288 with 2 Axes>"
      ]
     },
     "metadata": {
      "needs_background": "light"
     },
     "output_type": "display_data"
    }
   ],
   "source": [
    "points = np.arange(-5,5,0.01)\n",
    "xs, ys = np.meshgrid(points, points)\n",
    "print(ys)\n",
    "z = np.sqrt(xs**2 + ys**2)\n",
    "print(z)\n",
    "plt.imshow(z, cmap=plt.cm.BrBG); plt.colorbar()\n",
    "plt.title(\"Image plot of $\\sqrt{x^2 + y^2}$ for a grid of values\")"
   ]
  }
 ],
 "metadata": {
  "kernelspec": {
   "display_name": "Python 3",
   "language": "python",
   "name": "python3"
  },
  "language_info": {
   "codemirror_mode": {
    "name": "ipython",
    "version": 3
   },
   "file_extension": ".py",
   "mimetype": "text/x-python",
   "name": "python",
   "nbconvert_exporter": "python",
   "pygments_lexer": "ipython3",
   "version": "3.8.3"
  }
 },
 "nbformat": 4,
 "nbformat_minor": 4
}
