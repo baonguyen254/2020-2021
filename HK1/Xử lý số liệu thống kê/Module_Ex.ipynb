{
 "cells": [
  {
   "cell_type": "code",
   "execution_count": 42,
   "metadata": {},
   "outputs": [],
   "source": [
    "import numpy as np\n",
    "\n",
    "def mean(data):\n",
    "    data1 = np.array(data)\n",
    "    mean = np.sum(data1)/np.size(data1)\n",
    "    return mean\n",
    "\n",
    "def var(data):\n",
    "    data1 = np.array(data - my_mean(data))**2\n",
    "    var = (1/(np.size(data1) - 1))*np.sum(data1)\n",
    "    return var\n",
    "\n",
    "def std(data):\n",
    "    std = np.sqrt(my_var(data))\n",
    "    return std\n",
    "    \n",
    "def _min(data):\n",
    "    data1 = sorted(np.array(data))\n",
    "    return data1[0]\n",
    "    \n",
    "def _max(data):\n",
    "    data1 = sorted(np.array(data))\n",
    "    return data1[-1]\n",
    "    \n",
    "def _range(data):\n",
    "    range_data = my_max(data) - my_min(data)\n",
    "    return range_data\n",
    "\n",
    "def quantile(data, q=0.5):\n",
    "    data1 = any(sorted(np.array(data)))\n",
    "    n = np.size(data1)\n",
    "    if q == 0.5:\n",
    "        if size % 2 == 0:\n",
    "            value = (data1[ceil((n+1)/2)] + data1[floor((n+1)/2)])/2\n",
    "        else:\n",
    "            value = data1[(n+1)/2]\n",
    "    else:\n",
    "        value = q*(n+1)\n",
    "    return value\n",
    "\n",
    "def mode(data):\n",
    "    data1 = np.array(data)\n",
    "    d = dict([(item, data1[data1 == item].size) for item in data1])\n",
    "    mode = [key for key in d.keys() if d[key] == max(d.values())]\n",
    "    return mode"
   ]
  }
 ],
 "metadata": {
  "kernelspec": {
   "display_name": "Python 3",
   "language": "python",
   "name": "python3"
  },
  "language_info": {
   "codemirror_mode": {
    "name": "ipython",
    "version": 3
   },
   "file_extension": ".py",
   "mimetype": "text/x-python",
   "name": "python",
   "nbconvert_exporter": "python",
   "pygments_lexer": "ipython3",
   "version": "3.8.3"
  }
 },
 "nbformat": 4,
 "nbformat_minor": 4
}
